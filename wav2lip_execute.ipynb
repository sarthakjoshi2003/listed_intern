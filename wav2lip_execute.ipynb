{
  "cells": [
    {
      "cell_type": "markdown",
      "metadata": {
        "id": "view-in-github",
        "colab_type": "text"
      },
      "source": [
        "<a href=\"https://colab.research.google.com/github/sarthakjoshi2003/listed_intern/blob/main/wav2lip_execute.ipynb\" target=\"_parent\"><img src=\"https://colab.research.google.com/assets/colab-badge.svg\" alt=\"Open In Colab\"/></a>"
      ]
    },
    {
      "cell_type": "code",
      "execution_count": null,
      "metadata": {
        "id": "8iI-dVWARC0e"
      },
      "outputs": [],
      "source": [
        "# Step 1: Install dependency\n",
        "!pip install ffmpeg-python\n",
        "import requests\n",
        "\n",
        "import requests\n",
        "# Step 2: Clone the Wav2Lip repository\n",
        "!git clone https://github.com/justinjohn0306/Wav2Lip\n",
        "!git clone https://github.com/sarthakjoshi2003/listed_intern.git\n",
        "\n",
        "\n"
      ]
    },
    {
      "cell_type": "code",
      "execution_count": null,
      "metadata": {
        "id": "UmSHXZwPRKgA"
      },
      "outputs": [],
      "source": [
        "!cd Wav2Lip && pip install -r requirements.txt\n",
        "\n"
      ]
    },
    {
      "cell_type": "code",
      "execution_count": null,
      "metadata": {
        "id": "A-e1rkW7Rbg5"
      },
      "outputs": [],
      "source": [
        "#download pretrained model from wav2lip\n",
        "import requests\n",
        "url = \"https://iiitaphyd-my.sharepoint.com/personal/radrabha_m_research_iiit_ac_in/_layouts/15/download.aspx?share=EdjI7bZlgApMqsVoEUUXpLsBxqXbn5z8VTmoxp55YNDcIA\"\n",
        "response = requests.get(url)\n",
        "with open(\"Wav2Lip/checkpoints/wav2lip_gan.pth\", \"wb\") as f:\n",
        "    f.write(response.content)\n"
      ]
    },
    {
      "cell_type": "code",
      "execution_count": null,
      "metadata": {
        "colab": {
          "background_save": true
        },
        "id": "4DDvuEO-RhqR"
      },
      "outputs": [],
      "source": [
        "## due to some limitation in processing I have trimmed the vedio which was of 10 min to 30 seconds.\n",
        "\n",
        "from IPython.display import HTML\n",
        "from base64 import b64encode\n",
        "\n",
        "def show_video(path):\n",
        "    mp4 = open(path, 'rb').read()\n",
        "    data_url = \"data:video/mp4;base64,\" + b64encode(mp4).decode()\n",
        "    return HTML(f\"\"\"<video width=600 controls><source src=\"{data_url}\"></video>\"\"\")\n",
        "# Preview the trimmed video\n",
        "show_video('listed_intern/input_vid.mp4')"
      ]
    },
    {
      "cell_type": "code",
      "execution_count": null,
      "metadata": {
        "id": "_ZIHrjydRrjq"
      },
      "outputs": [],
      "source": [
        "import os\n",
        "\n",
        "from IPython.display import Audio\n",
        "from IPython.core.display import display\n",
        "\n",
        "PATH_TO_YOUR_AUDIO = 'listed_intern/input_audio.wav'\n",
        "def display_audio():\n",
        "    display(Audio('input_audio.wav'))\n",
        "    # Load audio with specified sampling rate\n",
        "\n",
        "import librosa\n",
        "audio, sr = librosa.load(PATH_TO_YOUR_AUDIO, sr=None)\n",
        "\n",
        "    # Save audio with specified sampling rate\n",
        "import soundfile as sf\n",
        "sf.write('input_audio.wav', audio, sr, format='wav')\n",
        "\n",
        "display_audio()"
      ]
    },
    {
      "cell_type": "code",
      "execution_count": null,
      "metadata": {
        "id": "rMo0gjh0Uj9m"
      },
      "outputs": [],
      "source": []
    },
    {
      "cell_type": "code",
      "execution_count": null,
      "metadata": {
        "id": "5Gl0exkkSvug"
      },
      "outputs": [],
      "source": [
        "pad_top = 0\n",
        "pad_bottom = 10\n",
        "pad_left = 0\n",
        "pad_right = 0\n",
        "rescaleFactor = 1\n",
        "nosmooth = False\n",
        "\n",
        "# Set the path to the Wav2Lip model and input files\n",
        "checkpoint_path = \"checkpoints/wav2lip_gan.pth\"\n",
        "input_face = \"../listed_intern/input_vid.mp4\"\n",
        "input_audio = \"../listed_intern/input_audio.wav\"\n",
        "\n",
        "# Run the Wav2Lip model\n",
        "!cd Wav2Lip && python inference.py --checkpoint_path {checkpoint_path} --face {input_face} --audio {input_audio} --pads {pad_top} {pad_bottom} {pad_left} {pad_right} --resize_factor {rescaleFactor} {\"--nosmooth\" if nosmooth else \"\"}\n",
        "\n",
        "# Preview the output video\n",
        "print(\"Final Video Preview\")\n"
      ]
    },
    {
      "cell_type": "code",
      "execution_count": null,
      "metadata": {
        "colab": {
          "background_save": true
        },
        "id": "sV9u3xyhUrbD"
      },
      "outputs": [],
      "source": [
        "print(\"Final Video Preview\")\n",
        "print(\"Find the output video at\", 'Wav2Lip/results/result_voice.mp4')\n",
        "show_video('Wav2Lip/results/result_voice.mp4')"
      ]
    }
  ],
  "metadata": {
    "accelerator": "GPU",
    "colab": {
      "provenance": [],
      "authorship_tag": "ABX9TyOWqBuubROWezcz0glHKaDz",
      "include_colab_link": true
    },
    "kernelspec": {
      "display_name": "Python 3",
      "name": "python3"
    },
    "language_info": {
      "name": "python"
    }
  },
  "nbformat": 4,
  "nbformat_minor": 0
}