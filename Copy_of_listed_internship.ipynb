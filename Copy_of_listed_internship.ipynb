{
  "nbformat": 4,
  "nbformat_minor": 0,
  "metadata": {
    "colab": {
      "provenance": [],
      "gpuType": "T4",
      "mount_file_id": "1Fy2FDUphPy9c2q-lN_XhFFcp2Kv_DI-4",
      "authorship_tag": "ABX9TyOM5ERX6xfl64bFcwVVNOX6",
      "include_colab_link": true
    },
    "kernelspec": {
      "name": "python3",
      "display_name": "Python 3"
    },
    "language_info": {
      "name": "python"
    },
    "accelerator": "GPU"
  },
  "cells": [
    {
      "cell_type": "markdown",
      "metadata": {
        "id": "view-in-github",
        "colab_type": "text"
      },
      "source": [
        "<a href=\"https://colab.research.google.com/github/sarthakjoshi2003/listed_intern/blob/main/Copy_of_listed_internship.ipynb\" target=\"_parent\"><img src=\"https://colab.research.google.com/assets/colab-badge.svg\" alt=\"Open In Colab\"/></a>"
      ]
    },
    {
      "cell_type": "code",
      "execution_count": null,
      "metadata": {
        "id": "Pjyj9U5finOu"
      },
      "outputs": [],
      "source": [
        "# Step 1: Install dependency\n",
        "!pip install ffmpeg-python\n",
        "\n",
        "# Step 2: Clone the Wav2Lip repository\n",
        "!git clone https://github.com/justinjohn0306/Wav2Lip\n",
        "\n",
        "# Step 3: Download pretrained model\n",
        "import requests\n",
        "url = \"https://iiitaphyd-my.sharepoint.com/personal/radrabha_m_research_iiit_ac_in/_layouts/15/download.aspx?share=EdjI7bZlgApMqsVoEUUXpLsBxqXbn5z8VTmoxp55YNDcIA\"\n",
        "response = requests.get(url)\n",
        "\n",
        "with open(\"Wav2Lip/checkpoints/wav2lip_gan.pth\", \"wb\") as f:\n",
        "    f.write(response.content)\n",
        "\n",
        "# Step 4: Install the required dependencies for Wav2Lip\n",
        "!cd Wav2Lip && pip install -r requirements.txt\n",
        "!pip install pyaudio\n",
        "\n",
        "\n",
        "# Step 5: Download pretrained model for face detection\n",
        "url = \"https://www.adrianbulat.com/downloads/python-fan/s3fd-619a316812.pth\"\n",
        "response = requests.get(url)\n",
        "\n",
        "with open(\"Wav2Lip/face_detection/detection/sfd/s3fd.pth\", \"wb\") as f:\n",
        "    f.write(response.content)"
      ]
    },
    {
      "cell_type": "code",
      "source": [
        "import os\n",
        "import subprocess\n",
        "from urllib import parse as urlparse\n",
        "from IPython.display import HTML\n",
        "from base64 import b64encode\n",
        "\n",
        "# Step 1: Install yt-dlp\n",
        "subprocess.run(['pip', 'install', 'yt-dlp'])\n"
      ],
      "metadata": {
        "colab": {
          "base_uri": "https://localhost:8080/"
        },
        "id": "JSZxwOeqj962",
        "outputId": "31ad6a40-5466-41fd-8078-f10c9f41862c"
      },
      "execution_count": null,
      "outputs": [
        {
          "output_type": "execute_result",
          "data": {
            "text/plain": [
              "CompletedProcess(args=['pip', 'install', 'yt-dlp'], returncode=0)"
            ]
          },
          "metadata": {},
          "execution_count": 3
        }
      ]
    },
    {
      "cell_type": "code",
      "source": [
        "def show_video(path):\n",
        "    mp4 = open(path, 'rb').read()\n",
        "    data_url = \"data:video/mp4;base64,\" + b64encode(mp4).decode()\n",
        "    return HTML(f\"\"\"<video width=600 controls><source src=\"{data_url}\"></video>\"\"\")\n",
        "\n",
        "# Preview the trimmed video\n",
        "show_video('input_vid.mp4')"
      ],
      "metadata": {
        "id": "LQ3LD1kBkHfL"
      },
      "execution_count": null,
      "outputs": []
    },
    {
      "cell_type": "code",
      "source": [
        "import os\n",
        "from IPython.display import Audio\n",
        "from IPython.core.display import display\n",
        "PATH_TO_YOUR_AUDIO = 'input_audio.wav'\n",
        "def display_audio():\n",
        "    display(Audio('input_audio.wav'))\n",
        "    # Load audio with specified sampling rate\n",
        "import librosa\n",
        "audio, sr = librosa.load(PATH_TO_YOUR_AUDIO, sr=None)\n",
        "\n",
        "    # Save audio with specified sampling rate\n",
        "import soundfile as sf\n",
        "sf.write('input_audio.wav', audio, sr, format='wav')\n",
        "\n",
        "display_audio()"
      ],
      "metadata": {
        "id": "Nn1Uwvf9mVRn"
      },
      "execution_count": null,
      "outputs": []
    },
    {
      "cell_type": "code",
      "source": [
        "pad_top = 0\n",
        "pad_bottom = 10\n",
        "pad_left = 0\n",
        "pad_right = 0\n",
        "rescaleFactor = 1\n",
        "nosmooth = False\n",
        "\n",
        "# Set the path to the Wav2Lip model and input files\n",
        "checkpoint_path = \"checkpoints/wav2lip_gan.pth\"\n",
        "input_face = \"../input_vid.mp4\"\n",
        "input_audio = \"../input_audio.wav\"\n",
        "\n",
        "# Run the Wav2Lip model\n",
        "!cd Wav2Lip && python inference.py --checkpoint_path {checkpoint_path} --face {input_face} --audio {input_audio} --pads {pad_top} {pad_bottom} {pad_left} {pad_right} --resize_factor {rescaleFactor} {\"--nosmooth\" if nosmooth else \"\"}\n",
        "\n",
        "# Preview the output video\n",
        "print(\"Final Video Preview\")\n",
        "print(\"Find the output video at\", 'Wav2Lip/results/result_voice.mp4')\n",
        "show_video('/Wav2Lip/results/result_voice.mp4')"
      ],
      "metadata": {
        "id": "HORe0G_Vm3Aj"
      },
      "execution_count": null,
      "outputs": []
    },
    {
      "cell_type": "code",
      "source": [
        "print(\"Final Video Preview\")\n",
        "print(\"Find the output video at\", 'Wav2Lip/results/result_voice.mp4')\n",
        "show_video('Wav2Lip/results/result_voice.mp4')"
      ],
      "metadata": {
        "id": "ru41_7dItIfd"
      },
      "execution_count": null,
      "outputs": []
    }
  ]
}